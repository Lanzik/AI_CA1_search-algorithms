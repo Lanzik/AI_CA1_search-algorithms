{
 "cells": [
  {
   "cell_type": "markdown",
   "metadata": {},
   "source": [
    "<div align=\"right\" dir=\"rtl\">\n",
    "    <h3>عنوان پروژه</h3>\n",
    "    <br>\n",
    "حل مسئله با استفاده از الگوریتم جست و جوی ناآگاهانه و آگاهانه\n",
    "    <br><h3>\n",
    "توضیح کلی پروژه و تعریف صورت مسئله\n",
    "    </h3>\n",
    "    <div alig=\"right\">\n",
    "       <br>\n",
    "در این پروژه قرار است با استفاده از الگوریتم های BFS, IDS, A* که الگوریتم های جست و جوی آگانه و ناآگاهانه هستند مسیر بهینه یا مطلوب مسئله را پیدا کنیم و چاپ کنیم بهترین مسیری که باید گندالف طی کند تا به اهداف خود برسد    </div>\n",
    "</div>"
   ]
  },
  {
   "cell_type": "code",
   "execution_count": 11,
   "metadata": {},
   "outputs": [],
   "source": [
    "from collections import deque\n",
    "import time"
   ]
  },
  {
   "cell_type": "markdown",
   "metadata": {},
   "source": [
    "<div align=\"right\" dir=\"rtl\"> \n",
    "    کتابخانه ی deque را برای داشتن استک دو طرفه اضافه می کنیم\n",
    "    </div>"
   ]
  },
  {
   "cell_type": "code",
   "execution_count": 12,
   "metadata": {},
   "outputs": [],
   "source": [
    "def add_orcs_area(x, y, c, area):\n",
    "    for i in range(n):\n",
    "        for j in range(m):\n",
    "            if abs(x-i) + abs(y-j) < c + 1:\n",
    "                area[i, j] = [c, 0, '']\n",
    "    return area\n"
   ]
  },
  {
   "cell_type": "markdown",
   "metadata": {},
   "source": [
    "<div align=\"right\" dir=\"rtl\"> \n",
    "این تابع به ازای هر اورک خانه های جدول ماتریسی ما را به صورت یک لیست سه تایی مقدار دهی می کند به این صورت که\n",
    "    اولین خانه مربوط به درجه نظامی اورک است یعنی c\n",
    "    دومین خانه مربوط به محدودیت حرکت در بین خانه های تحت حاکمیت اورک است که یعنی به ازای هر خانه نزدیک شدن یا پیمایش در بین خانه های تحت حاکمیت اورک این عدد به اندازه یک واحد اضافه می شود\n",
    "    و سومی نیز مربوط به ذخیره کرده حرکت های پیشین به صورت استرینگ است\n",
    "</div>"
   ]
  },
  {
   "cell_type": "code",
   "execution_count": 13,
   "metadata": {},
   "outputs": [],
   "source": [
    "def erase_area(area):\n",
    "    add_empty_area()\n",
    "    for i in orcs:\n",
    "        area = add_orcs_area(i[0], i[1], i[2], area)\n"
   ]
  },
  {
   "cell_type": "markdown",
   "metadata": {},
   "source": [
    "<div align=\"right\" dir=\"rtl\"> \n",
    "در هر بار که گندالف خانه ی هدف را پیدا می کند این تابع به منظور پاکسازی ردپاهای پیشین صدا زده می شود\n",
    "    به این نکته توجه شود که مسیر بهینه ی پیمایش شده برای هدف پیشین قبل از پاکسازی در یک متغیر جداگانه ذخیره شده است\n",
    "</div>"
   ]
  },
  {
   "cell_type": "code",
   "execution_count": 14,
   "metadata": {},
   "outputs": [],
   "source": [
    "def add_empty_area():\n",
    "    for i in range(n):\n",
    "        for j in range(m):\n",
    "            area[i, j] = [0, 0, '']\n"
   ]
  },
  {
   "cell_type": "markdown",
   "metadata": {},
   "source": [
    "<div align=\"right\" dir=\"rtl\"> \n",
    "صفر کردن و پاک کردن خانه های جدول در مسیر پیمایش شده ی قبلی\n",
    "</div>"
   ]
  },
  {
   "cell_type": "code",
   "execution_count": 18,
   "metadata": {},
   "outputs": [],
   "source": [
    "def search_BFS(area, curr):\n",
    "    start_t = time.time()\n",
    "    frontier = deque()\n",
    "    explored = []\n",
    "    frontier.append(curr)\n",
    "    if(len(fellows) == len(fellows_target)):\n",
    "        if len(fellows) == 0 and len(fellows_target) == 0:\n",
    "            target = 3\n",
    "        else:\n",
    "            target = 1\n",
    "    else:\n",
    "        target = 2\n",
    "\n",
    "    if check_goal(curr, target):\n",
    "        return curr\n",
    "    \n",
    "    while(True):\n",
    "        curr = frontier.popleft()\n",
    "        explored.append(curr)\n",
    "        left = [curr[0], curr[1] - 1]\n",
    "        if left[1] >= 0:\n",
    "            if not left in explored and not left in frontier:\n",
    "                if area[left[0], left[1]][0] != 0:\n",
    "                    area[left[0], left[1]][1] = area[curr[0], curr[1]][1] + 1\n",
    "                if area[left[0], left[1]][0] >= area[left[0], left[1]][1]:\n",
    "                    frontier.append(left)\n",
    "                    area[left[0], left[1]][2] = area[curr[0], curr[1]][2] + \"L\"\n",
    "                if check_goal(left, target):\n",
    "                    return left\n",
    "        right = [curr[0], curr[1] + 1]\n",
    "        if right[1] < m:\n",
    "            if not right in explored and not right in frontier:\n",
    "                if area[right[0], right[1]][0] != 0:\n",
    "                    area[right[0], right[1]][1] = area[curr[0], curr[1]][1] + 1\n",
    "                if area[right[0], right[1]][0] >= area[right[0], right[1]][1] :\n",
    "                    frontier.append(right)\n",
    "                    area[right[0], right[1]][2] = area[curr[0], curr[1]][2] + \"R\"\n",
    "                if check_goal(right, target):\n",
    "                    return right\n",
    "        up = [curr[0] - 1, curr[1]]\n",
    "        if up[0] >= 0:\n",
    "            if not up in explored and not up in frontier:\n",
    "                if area[up[0], up[1]][0] != 0:\n",
    "                    area[up[0], up[1]][1] = area[curr[0], curr[1]][1] + 1\n",
    "                if area[up[0], up[1]][0] >= area[up[0], up[1]][1]:\n",
    "                    frontier.append(up)\n",
    "                    area[up[0], up[1]][2] = area[curr[0], curr[1]][2] + \"U\"\n",
    "                if check_goal(up, target):\n",
    "                    return up\n",
    "        down = [curr[0] + 1, curr[1]]\n",
    "        if down[0] < n:\n",
    "            if not down in explored and not down in frontier:\n",
    "                if area[down[0], down[1]][0] != 0:\n",
    "                    area[down[0], down[1]][1] = area[curr[0], curr[1]][1] + 1\n",
    "                if area[down[0], down[1]][0] >= area[down[0], down[1]][1]:\n",
    "                    frontier.append(down)\n",
    "                    area[down[0], down[1]][2] = area[curr[0], curr[1]][2] + \"D\"\n",
    "                if check_goal(down, target):\n",
    "                    end_t = time.time()\n",
    "                    return down"
   ]
  },
  {
   "cell_type": "markdown",
   "metadata": {},
   "source": [
    "<div align=\"right\" dir=\"rtl\"> \n",
    "این تابع که همان جست و جوی BFS است \n",
    "frontier استک دو طرفه ای که برای ذخیره نود های بسط داده شده ایجاد شده است\n",
    "    explored نود های پیمایش شده\n",
    "    ابتدا روت یا ریشه یا همان خانه ی start است که از کاربر گرفتیم به frontier اضافه می کنیم\n",
    "    برای بسط دادن روت احتیاج به خانه های اطراف داریم بنابراین طبق چهارحرکت مجازی تعریف شده خانه های اطراف را بررسی می کنیم\n",
    "    برای بسط دادن ابتدا خانه مختصات خانه های چپ راست بالا پایین را پیدا میکنیم\n",
    "    بعدش چک میکنیم که خارج از جدول نباشد\n",
    "    بعدش چک میکنیم که قبلا در مجموعه ی نودهای مرزی یا نود های پیمایش شده نباشد\n",
    "    بعدش چک میکنیم که اگر در محدوده ی حاکمیتی اورک قرار گرفته باشد درجه ی خطر آن که مربوط به لیست ناحیه با اندیس یک است را یک واحد اضافه می کنیم\n",
    "    بعدش چک میکنیم که اگر از نظر خطر و محدودیت مربوط به اورک ها اجازه داریم این نود را به مجموعه نود های مرزی یا بسط داده شده اضافه می کنیم\n",
    "    بعدش حرف مربوط به حرکت از خانه ی پدر به خانه ی فرزند را ذخیره می کنیم\n",
    "    و در آخر چک می کنیم که به هدف رسیده ایم یا نه که اگر رسیده باشیم از تابع بیرون می آییم\n",
    "</div>"
   ]
  },
  {
   "cell_type": "code",
   "execution_count": 19,
   "metadata": {},
   "outputs": [],
   "source": [
    "def check_goal(curr, target):\n",
    "    if target == 1:\n",
    "        if curr in fellows:\n",
    "            ind = fellows.index(curr)\n",
    "            target_fellow.append(fellows_target[ind])\n",
    "            del fellows[ind]\n",
    "            return True\n",
    "    elif target == 2:\n",
    "        if [curr[0], curr[1]] == target_fellow[0]:\n",
    "            ind = fellows_target.index(curr)\n",
    "            target_fellow.clear()\n",
    "            del fellows_target[ind]\n",
    "            return True\n",
    "    elif target == 3:\n",
    "        if [curr[0], curr[1]] == end:\n",
    "            return True\n"
   ]
  },
  {
   "cell_type": "markdown",
   "metadata": {},
   "source": [
    "<div align=\"right\" dir=\"rtl\"> \n",
    "   این تابع چک گل ما است که اگر به هدف رسیده باشیم مقدار true بر میگرداند \n",
    "بسته به موقعیت و نوع هدف ما عملیات چک کردن انجام می شود\n",
    "</div>"
   ]
  },
  {
   "cell_type": "code",
   "execution_count": 20,
   "metadata": {},
   "outputs": [
    {
     "name": "stdout",
     "output_type": "stream",
     "text": [
      "4 42 1 1 2 40 0 5 1 30 1 31 1 32 1 33 1 34 2 30 2 31 2 32 2 33 2 34\n"
     ]
    },
    {
     "ename": "ValueError",
     "evalue": "too many values to unpack (expected 2)",
     "output_type": "error",
     "traceback": [
      "\u001b[0;31m---------------------------------------------------------------------------\u001b[0m",
      "\u001b[0;31mValueError\u001b[0m                                Traceback (most recent call last)",
      "\u001b[0;32m<ipython-input-20-d208e43015e0>\u001b[0m in \u001b[0;36m<module>\u001b[0;34m\u001b[0m\n\u001b[0;32m----> 1\u001b[0;31m \u001b[0mn\u001b[0m\u001b[0;34m,\u001b[0m \u001b[0mm\u001b[0m \u001b[0;34m=\u001b[0m \u001b[0mmap\u001b[0m\u001b[0;34m(\u001b[0m\u001b[0mint\u001b[0m\u001b[0;34m,\u001b[0m \u001b[0minput\u001b[0m\u001b[0;34m(\u001b[0m\u001b[0;34m)\u001b[0m\u001b[0;34m.\u001b[0m\u001b[0msplit\u001b[0m\u001b[0;34m(\u001b[0m\u001b[0;34m)\u001b[0m\u001b[0;34m)\u001b[0m\u001b[0;34m\u001b[0m\u001b[0;34m\u001b[0m\u001b[0m\n\u001b[0m\u001b[1;32m      2\u001b[0m \u001b[0;34m\u001b[0m\u001b[0m\n\u001b[1;32m      3\u001b[0m \u001b[0marea\u001b[0m \u001b[0;34m=\u001b[0m \u001b[0;34m[\u001b[0m\u001b[0;34m[\u001b[0m\u001b[0;36m0\u001b[0m \u001b[0;32mfor\u001b[0m \u001b[0mitem\u001b[0m \u001b[0;32min\u001b[0m \u001b[0mrange\u001b[0m\u001b[0;34m(\u001b[0m\u001b[0mm\u001b[0m\u001b[0;34m)\u001b[0m\u001b[0;34m]\u001b[0m \u001b[0;32mfor\u001b[0m \u001b[0mitem\u001b[0m \u001b[0;32min\u001b[0m \u001b[0mrange\u001b[0m\u001b[0;34m(\u001b[0m\u001b[0mn\u001b[0m\u001b[0;34m)\u001b[0m\u001b[0;34m]\u001b[0m\u001b[0;34m\u001b[0m\u001b[0;34m\u001b[0m\u001b[0m\n\u001b[1;32m      4\u001b[0m \u001b[0;34m\u001b[0m\u001b[0m\n\u001b[1;32m      5\u001b[0m \u001b[0mstart\u001b[0m \u001b[0;34m=\u001b[0m \u001b[0;34m[\u001b[0m\u001b[0mint\u001b[0m\u001b[0;34m(\u001b[0m\u001b[0mitem\u001b[0m\u001b[0;34m)\u001b[0m \u001b[0;32mfor\u001b[0m \u001b[0mitem\u001b[0m \u001b[0;32min\u001b[0m \u001b[0minput\u001b[0m\u001b[0;34m(\u001b[0m\u001b[0;34m)\u001b[0m\u001b[0;34m.\u001b[0m\u001b[0msplit\u001b[0m\u001b[0;34m(\u001b[0m\u001b[0;34m)\u001b[0m\u001b[0;34m]\u001b[0m\u001b[0;34m\u001b[0m\u001b[0;34m\u001b[0m\u001b[0m\n",
      "\u001b[0;31mValueError\u001b[0m: too many values to unpack (expected 2)"
     ]
    }
   ],
   "source": [
    "n, m = map(int, input().split())\n",
    "\n",
    "area = [[0 for item in range(m)] for item in range(n)]\n",
    "\n",
    "start = [int(item) for item in input().split()]\n",
    "\n",
    "end = [int(item) for item in input().split()]\n",
    "\n",
    "k, l = map(int, input().split())\n",
    "\n",
    "area = {}\n",
    "\n",
    "orcs = []\n",
    "\n",
    "path = ''\n"
   ]
  },
  {
   "cell_type": "markdown",
   "metadata": {},
   "source": [
    "<div align=\"right\" dir=\"rtl\"> \n",
    " متغیرهای مورد نظر ما که در برنامه استفاده میشه\n",
    "    area جدول خانه ها\n",
    "    orcs لیست ارک ها و میزان خطر آن ها در خانه ها\n",
    "    path مسیر بهینه ی ذخیره شده\n",
    "</div>"
   ]
  },
  {
   "cell_type": "code",
   "execution_count": null,
   "metadata": {},
   "outputs": [],
   "source": [
    "add_empty_area()\n",
    "\n",
    "for i in range(k):\n",
    "    x, y, c = map(int, input().split())\n",
    "    orcs.append([x, y, c])\n",
    "    area = add_orcs_area(x, y, c, area)\n"
   ]
  },
  {
   "cell_type": "markdown",
   "metadata": {},
   "source": [
    "<div align=\"right\" dir=\"rtl\"> \n",
    "خانه های جدولمان را با مقادیر پیش فرض و اولیه و بدون هیچ خانه ی خطری میسازیم\n",
    "    بعد به ازای هر اورک خانه های تهدید شده توسط ارک ها را مقدار دهی میکنیم\n",
    "</div>"
   ]
  },
  {
   "cell_type": "code",
   "execution_count": null,
   "metadata": {},
   "outputs": [],
   "source": [
    "fellows = [[int(item) for item in input().split()] for item in range(l)]\n",
    "\n",
    "fellows_target = [[int(item) for item in input().split()] for item in range(l)]\n",
    "target_fellow = []\n",
    "\n",
    "curr = start\n"
   ]
  },
  {
   "cell_type": "markdown",
   "metadata": {},
   "source": [
    "<div align=\"right\" dir=\"rtl\"> \n",
    "یاران حلقه را اضافه می کنیم\n",
    "    و اهداف آن ها را نیز اضافه می کنیم \n",
    "    target_fellow آخرین هدفمان است که در هر مرحله تغییر می کند\n",
    "    initia state همان curr است که در این مرحله مقداردهی می کنیم\n",
    "</div>"
   ]
  },
  {
   "cell_type": "code",
   "execution_count": null,
   "metadata": {},
   "outputs": [],
   "source": [
    "while(curr != end):\n",
    "    curr = search_BFS(area, curr)\n",
    "    path += str(area[curr[0], curr[1]][2])\n",
    "    erase_area(area)\n",
    "print(path)\n"
   ]
  },
  {
   "cell_type": "markdown",
   "metadata": {},
   "source": [
    "<div align=\"right\" dir=\"rtl\"> \n",
    "یک حلقه داریم که در هر مرحله پیمایش یعنی پیدا کردن نزدیک یار حلقه یا اهداف آن ها یا هدف نهایی از نو اجرا می شود تا زمانی که به هدف نهایی برسیم\n",
    "</div>"
   ]
  },
  {
   "cell_type": "code",
   "execution_count": null,
   "metadata": {},
   "outputs": [],
   "source": [
    "def search_IDS(area, root):\n",
    "    frontier = []\n",
    "    explored = []\n",
    "    frontier.append(root)\n",
    "    if(len(fellows) == len(fellows_target)):\n",
    "        if len(fellows) == 0 and len(fellows_target) == 0:\n",
    "            target = 3\n",
    "        else:\n",
    "            target = 1\n",
    "    else:\n",
    "        target = 2\n",
    "    lvl = 1\n",
    "    i_loop = 0\n",
    "    while(i_loop < lvl):\n",
    "        curr = frontier[i_loop]\n",
    "        explored.append(curr)\n",
    "        left = [curr[0], curr[1] - 1]\n",
    "        number_childs = 0\n",
    "        if left[1] >= 0:\n",
    "            if not left in explored and not left in frontier:\n",
    "                if area[left[0], left[1]][0] != 0:\n",
    "                    area[left[0], left[1]][1] = area[curr[0], curr[1]][1] + 1\n",
    "                if area[left[0], left[1]][0] >= area[left[0], left[1]][1]:\n",
    "                    frontier.append(left)\n",
    "                    number_childs += 1\n",
    "                    area[left[0], left[1]][2] = area[curr[0], curr[1]][2] + \"L\"\n",
    "        right = [curr[0], curr[1] + 1]\n",
    "        if right[1] < m:\n",
    "            if not right in explored and not right in frontier:\n",
    "                if area[right[0], right[1]][0] != 0:\n",
    "                    area[right[0], right[1]][1] = area[curr[0], curr[1]][1] + 1\n",
    "                if area[right[0], right[1]][0] >= area[right[0], right[1]][1] :\n",
    "                    frontier.append(right)\n",
    "                    number_childs += 1\n",
    "                    area[right[0], right[1]][2] = area[curr[0], curr[1]][2] + \"R\"\n",
    "        up = [curr[0] - 1, curr[1]]\n",
    "        if up[0] >= 0:\n",
    "            if not up in explored and not up in frontier:\n",
    "                if area[up[0], up[1]][0] != 0:\n",
    "                    area[up[0], up[1]][1] = area[curr[0], curr[1]][1] + 1\n",
    "                if area[up[0], up[1]][0] >= area[up[0], up[1]][1]:\n",
    "                    frontier.append(up)\n",
    "                    number_childs += 1\n",
    "                    area[up[0], up[1]][2] = area[curr[0], curr[1]][2] + \"U\"\n",
    "        down = [curr[0] + 1, curr[1]]\n",
    "        if down[0] < n:\n",
    "            if not down in explored and not down in frontier:\n",
    "                if area[down[0], down[1]][0] != 0:\n",
    "                    area[down[0], down[1]][1] = area[curr[0], curr[1]][1] + 1\n",
    "                if area[down[0], down[1]][0] >= area[down[0], down[1]][1]:\n",
    "                    frontier.append(down)\n",
    "                    number_childs += 1\n",
    "                    area[down[0], down[1]][2] = area[curr[0], curr[1]][2] + \"D\"\n",
    "        for j in range(-1, -len(frontier), -1):\n",
    "            curr = frontier[-1]\n",
    "            if check_goal(curr, target):\n",
    "                return curr\n",
    "        if i_loop == lvl - 1:\n",
    "            lvl += 1\n",
    "        i_loop += 1"
   ]
  },
  {
   "cell_type": "markdown",
   "metadata": {},
   "source": [
    "<div align=\"right\" dir=\"rtl\"> \n",
    "در سرچ IDS ما در هر سطحی DFS را اجرا می کنیم و خانه ها یا نود ها را سطح بندی می کنیم \n",
    "i_loop همان سطح فعلی ما است\n",
    "    lvl سطح نهایی که حداکثر سطح فعلی باید به آن برسد تا سطح نهایی یک واحد بیشتر شود\n",
    "</div>"
   ]
  },
  {
   "cell_type": "code",
   "execution_count": null,
   "metadata": {},
   "outputs": [],
   "source": [
    "def cal_f(frontier, cost):\n",
    "    for i in len(frontier):\n",
    "        x = abs(frontier[i][0] - target[0])\n",
    "        y = abs(frontier[i][1] - target[1])\n",
    "        return x + y + cost\n"
   ]
  },
  {
   "cell_type": "markdown",
   "metadata": {},
   "source": [
    "<div align=\"right\" dir=\"rtl\"> \n",
    "برای قسمت A* نیز ما دو نوع هزینه را حساب می کنیم\n",
    "    اولی هزینه ی مورد نیاز تا خانه ی تارگت که با استفاده از فاصله ی منهتن تخمین میزنیم\n",
    "    و دومی هزینه ی پیمایش شده که به ازای هر خانه یک واحد هزینه در نظر می گیریم\n",
    "</div>"
   ]
  },
  {
   "cell_type": "markdown",
   "metadata": {},
   "source": [
    "<div align=\"right\" dir=\"rtl\"> \n",
    "    <table><tr>\n",
    "        <td width=\"100px\">\n",
    "         <div align=\"center\">\n",
    "میانگین زمان اجرا\n",
    "            </div>\n",
    "        </td>\n",
    "        <td width=\"150px\">\n",
    "         <div align=\"center\">\n",
    "تعداد استیت های دیده شده            </div>\n",
    "        </td>\n",
    "        <td width=\"100px\">\n",
    "         <div align=\"center\">\n",
    "طول جواب\n",
    "            </div>\n",
    "        </td>\n",
    "        </tr>\n",
    "        <tr>\n",
    "            <td>0.012375752</td>\n",
    "            <td> 188</td>\n",
    "            <td> 48</td>\n",
    "            <td>test_00</td>\n",
    "        </tr>\n",
    "                <tr><td>\n",
    "            RRRRRRRRRRRRRRRRRRRRRRRRRRRRRDRUDRUDRUDRUDRRRRRR\n",
    "            </td></tr>\n",
    "        <tr>\n",
    "            <td>0.034087578</td>\n",
    "            <td> 267</td>\n",
    "            <td> 56</td>\n",
    "            <td>test_01</td>\n",
    "        </tr>\n",
    "                <tr><td>\n",
    "            RRRRDDDDDDDLLLDRRRRRRRUUUUDDDLDLLRRRUUULULULLDDDDLDRRRRR\n",
    "            </td></tr>\n",
    "         <tr>\n",
    "            <td>0.01037542</td>\n",
    "            <td> 112</td>\n",
    "            <td> 34</td>\n",
    "            <td>test_02</td>\n",
    "        </tr>\n",
    "                <tr><td>\n",
    "            RRRRRRRLLLLDDDDLDLLRDDRUURURRRDRDD\n",
    "            </td></tr>\n",
    "        <tr>\n",
    "            <td>0.02593414</td>\n",
    "            <td> 305</td>\n",
    "            <td> 70</td>\n",
    "            <td>test_03</td>\n",
    "        </tr>\n",
    "        <tr><td>\n",
    "            RRDDDRDRDDDDLLLLRDRRRRRRRRUUUUUUUUULLLDDDLDLDDDDLLLDRRRRUUUUURRRRDDDDD\n",
    "            </td></tr>\n",
    "    </table>\n",
    "</div>\n"
   ]
  },
  {
   "cell_type": "code",
   "execution_count": null,
   "metadata": {},
   "outputs": [],
   "source": []
  }
 ],
 "metadata": {
  "kernelspec": {
   "display_name": "Python 3",
   "language": "python",
   "name": "python3"
  },
  "language_info": {
   "codemirror_mode": {
    "name": "ipython",
    "version": 3
   },
   "file_extension": ".py",
   "mimetype": "text/x-python",
   "name": "python",
   "nbconvert_exporter": "python",
   "pygments_lexer": "ipython3",
   "version": "3.8.10"
  }
 },
 "nbformat": 4,
 "nbformat_minor": 4
}
